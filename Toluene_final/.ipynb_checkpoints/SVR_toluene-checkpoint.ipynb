{
 "cells": [
  {
   "cell_type": "code",
   "execution_count": 1,
   "id": "b3d66e0a",
   "metadata": {},
   "outputs": [],
   "source": [
    "import pandas as pd \n",
    "import numpy as np\n",
    "import seaborn as sns\n",
    "%matplotlib inline\n",
    "import matplotlib.pyplot as plt\n",
    "from IPython.display import SVG\n",
    "from IPython.display import display"
   ]
  },
  {
   "cell_type": "code",
   "execution_count": 2,
   "id": "6d675fa9",
   "metadata": {},
   "outputs": [],
   "source": [
    "#Берем файл со всеми дескрипторами (Из той папки, где код)\n",
    "data = pd.read_excel('C://Users//plato//Documents//Python Scripts//Toluene_final//Toluene_ALL.xlsx', index_col=0) "
   ]
  },
  {
   "cell_type": "code",
   "execution_count": 3,
   "id": "eb5303dd",
   "metadata": {},
   "outputs": [],
   "source": [
    "merged_df = data[['VE1_RG', 'G3u:(Dragon7)', 'MATS8i:(Dragon7)', 'TDB06p:(Dragon7)', 'X', 'Eig03_EA(dm)', 'Mor23i:(Dragon7)', 'LnLn']]"
   ]
  },
  {
   "cell_type": "code",
   "execution_count": 4,
   "id": "834d311b",
   "metadata": {},
   "outputs": [],
   "source": [
    "#Сохраняем в отдельный файл (он сохранится в ту папку, в которой этот код)\n",
    "merged_df.to_excel(f'Toluene_SVR.xlsx', index=True)"
   ]
  },
  {
   "cell_type": "code",
   "execution_count": 5,
   "id": "ac976265",
   "metadata": {},
   "outputs": [
    {
     "data": {
      "text/html": [
       "<div>\n",
       "<style scoped>\n",
       "    .dataframe tbody tr th:only-of-type {\n",
       "        vertical-align: middle;\n",
       "    }\n",
       "\n",
       "    .dataframe tbody tr th {\n",
       "        vertical-align: top;\n",
       "    }\n",
       "\n",
       "    .dataframe thead th {\n",
       "        text-align: right;\n",
       "    }\n",
       "</style>\n",
       "<table border=\"1\" class=\"dataframe\">\n",
       "  <thead>\n",
       "    <tr style=\"text-align: right;\">\n",
       "      <th></th>\n",
       "      <th>VE1_RG</th>\n",
       "      <th>G3u:(Dragon7)</th>\n",
       "      <th>MATS8i:(Dragon7)</th>\n",
       "      <th>TDB06p:(Dragon7)</th>\n",
       "      <th>X</th>\n",
       "      <th>Eig03_EA(dm)</th>\n",
       "      <th>Mor23i:(Dragon7)</th>\n",
       "      <th>LnLn</th>\n",
       "    </tr>\n",
       "    <tr>\n",
       "      <th>SrNo</th>\n",
       "      <th></th>\n",
       "      <th></th>\n",
       "      <th></th>\n",
       "      <th></th>\n",
       "      <th></th>\n",
       "      <th></th>\n",
       "      <th></th>\n",
       "      <th></th>\n",
       "    </tr>\n",
       "  </thead>\n",
       "  <tbody>\n",
       "    <tr>\n",
       "      <th>1</th>\n",
       "      <td>3.739</td>\n",
       "      <td>1.000</td>\n",
       "      <td>0.142</td>\n",
       "      <td>2.573</td>\n",
       "      <td>4.503693</td>\n",
       "      <td>0.0</td>\n",
       "      <td>-0.633</td>\n",
       "      <td>0.111176</td>\n",
       "    </tr>\n",
       "    <tr>\n",
       "      <th>2</th>\n",
       "      <td>4.153</td>\n",
       "      <td>0.283</td>\n",
       "      <td>0.034</td>\n",
       "      <td>2.163</td>\n",
       "      <td>3.985782</td>\n",
       "      <td>0.0</td>\n",
       "      <td>-0.235</td>\n",
       "      <td>0.107657</td>\n",
       "    </tr>\n",
       "    <tr>\n",
       "      <th>21</th>\n",
       "      <td>3.961</td>\n",
       "      <td>0.211</td>\n",
       "      <td>-0.118</td>\n",
       "      <td>2.952</td>\n",
       "      <td>3.925357</td>\n",
       "      <td>0.0</td>\n",
       "      <td>-1.210</td>\n",
       "      <td>0.083064</td>\n",
       "    </tr>\n",
       "    <tr>\n",
       "      <th>26</th>\n",
       "      <td>3.915</td>\n",
       "      <td>0.176</td>\n",
       "      <td>-0.233</td>\n",
       "      <td>2.892</td>\n",
       "      <td>3.884633</td>\n",
       "      <td>0.0</td>\n",
       "      <td>-1.093</td>\n",
       "      <td>0.046121</td>\n",
       "    </tr>\n",
       "    <tr>\n",
       "      <th>27</th>\n",
       "      <td>3.816</td>\n",
       "      <td>1.000</td>\n",
       "      <td>-0.190</td>\n",
       "      <td>3.239</td>\n",
       "      <td>3.942941</td>\n",
       "      <td>0.0</td>\n",
       "      <td>-1.529</td>\n",
       "      <td>0.026888</td>\n",
       "    </tr>\n",
       "  </tbody>\n",
       "</table>\n",
       "</div>"
      ],
      "text/plain": [
       "      VE1_RG  G3u:(Dragon7)  MATS8i:(Dragon7)  TDB06p:(Dragon7)         X  \\\n",
       "SrNo                                                                        \n",
       "1      3.739          1.000             0.142             2.573  4.503693   \n",
       "2      4.153          0.283             0.034             2.163  3.985782   \n",
       "21     3.961          0.211            -0.118             2.952  3.925357   \n",
       "26     3.915          0.176            -0.233             2.892  3.884633   \n",
       "27     3.816          1.000            -0.190             3.239  3.942941   \n",
       "\n",
       "      Eig03_EA(dm)  Mor23i:(Dragon7)      LnLn  \n",
       "SrNo                                            \n",
       "1              0.0            -0.633  0.111176  \n",
       "2              0.0            -0.235  0.107657  \n",
       "21             0.0            -1.210  0.083064  \n",
       "26             0.0            -1.093  0.046121  \n",
       "27             0.0            -1.529  0.026888  "
      ]
     },
     "execution_count": 5,
     "metadata": {},
     "output_type": "execute_result"
    }
   ],
   "source": [
    "Porphs_data = pd.read_excel('C://Users//plato//Documents//Python Scripts//Toluene_final//Toluene_SVR.xlsx', index_col=0)\n",
    "Porphs_data.head()"
   ]
  },
  {
   "cell_type": "code",
   "execution_count": 6,
   "id": "5c4ce37b",
   "metadata": {},
   "outputs": [],
   "source": [
    "# Create correlation matrix\n",
    "corr_matrix = Porphs_data.corr().abs()\n",
    "corr_matrix\n",
    "# Select upper triangle of correlation matrix\n",
    "upper = corr_matrix.where(np.triu(np.ones(corr_matrix.shape), k=1).astype(bool))\n",
    "# Find index of feature columns with correlation greater than 0.95\n",
    "to_drop = [column for column in upper.columns if any(upper[column] > 0.95)]\n",
    "# Drop features \n",
    "Porphs_data1 = Porphs_data.drop(Porphs_data[to_drop], axis=1)"
   ]
  },
  {
   "cell_type": "code",
   "execution_count": 7,
   "id": "3bf2d9fb",
   "metadata": {},
   "outputs": [],
   "source": [
    "y = Porphs_data1.LnLn\n",
    "X = Porphs_data.drop(['LnLn'], axis=1)\n",
    "#Делаем препроцессинг данных\n",
    "from sklearn import preprocessing\n",
    "# normalize the data attributes\n",
    "X = pd.DataFrame(preprocessing.scale(X), columns=X.columns, index=X.index)\n",
    "\n",
    "#делаем тренировочную выборку\n",
    "X_train = X.drop([2, 31, 70, 57, 47, 39, 42, 66, 53], axis=0)\n",
    "#делаем тренировочную целевую переменную\n",
    "y_train = y.drop([2, 31, 70, 57, 47, 39, 42, 66, 53], axis=0)\n",
    "#делаем тестовую выборку\n",
    "X_test = X.loc[[2, 31, 70, 57, 47, 39, 42, 66, 53]]\n",
    "#делаем тестовую целевую переменную\n",
    "y_test = y.loc[[2, 31, 70, 57, 47, 39, 42, 66, 53]]"
   ]
  },
  {
   "cell_type": "code",
   "execution_count": 8,
   "id": "1bf079da",
   "metadata": {},
   "outputs": [
    {
     "name": "stdout",
     "output_type": "stream",
     "text": [
      "Train R^2: 0.8450423173708722\n",
      "Test R^2: 0.811069783765427\n"
     ]
    }
   ],
   "source": [
    "#Строим модель SVR на лучших параметрах C и epsilon\n",
    "from sklearn.model_selection import GridSearchCV\n",
    "from sklearn.metrics import make_scorer, r2_score\n",
    "from sklearn.svm import SVR\n",
    "clf_svr = SVR(C=1.0, gamma='scale', epsilon=0.1)\n",
    "parameters = {'kernel':['linear'], \n",
    "              'gamma':['scale', 'auto'],\n",
    "              'C':[300000], \n",
    "              \"epsilon\":[0.001]}\n",
    "grid_search_cv_clf = GridSearchCV(clf_svr, parameters, cv=5, n_jobs=-1)\n",
    "grid_search_cv_clf.fit(X_train, y_train)\n",
    "y_train_pred = grid_search_cv_clf.predict(X_train)\n",
    "train_r2 = r2_score(y_train, y_train_pred)\n",
    "y_test_pred = grid_search_cv_clf.predict(X_test)\n",
    "test_r2 = r2_score(y_test, y_test_pred)\n",
    "# Выводим текущие значения коэффициентов детерминации\n",
    "print(\"Train R^2:\", train_r2)\n",
    "print(\"Test R^2:\", test_r2)"
   ]
  },
  {
   "cell_type": "code",
   "execution_count": 9,
   "id": "90260066",
   "metadata": {},
   "outputs": [
    {
     "name": "stdout",
     "output_type": "stream",
     "text": [
      "R^2 adjusted: 0.8063028967135902\n"
     ]
    }
   ],
   "source": [
    "R2_adj = 1 - ( 1-train_r2 ) * ( len(y_train) - 1 ) / ( len(y_train) - X_train.shape[1] - 1 )\n",
    "print(\"R^2 adjusted:\", R2_adj)"
   ]
  },
  {
   "cell_type": "code",
   "execution_count": 10,
   "id": "cead9292",
   "metadata": {},
   "outputs": [
    {
     "data": {
      "text/plain": [
       "{'C': 300000, 'epsilon': 0.001, 'gamma': 'scale', 'kernel': 'linear'}"
      ]
     },
     "execution_count": 10,
     "metadata": {},
     "output_type": "execute_result"
    }
   ],
   "source": [
    "# наилучшие параметры SVR\n",
    "grid_search_cv_clf.best_params_"
   ]
  },
  {
   "cell_type": "code",
   "execution_count": 11,
   "id": "d147d696",
   "metadata": {},
   "outputs": [],
   "source": [
    "#новый SVR с наилучшими параметрами\n",
    "best_clf = grid_search_cv_clf.best_estimator_"
   ]
  },
  {
   "cell_type": "code",
   "execution_count": 12,
   "id": "7abd31a9",
   "metadata": {},
   "outputs": [
    {
     "name": "stdout",
     "output_type": "stream",
     "text": [
      "MaxAE: 0.8229742456700881\n",
      "MAE: 0.23204094885237422\n"
     ]
    }
   ],
   "source": [
    "#Максимальная ошибка предсказания\n",
    "import sklearn.metrics as metrics\n",
    "MaxAE = metrics.max_error(y_train, y_train_pred)  #max_error metric calculates the maximum residual error\n",
    "print(f\"MaxAE: {MaxAE}\")\n",
    "#Средняя абсолютная ошибка предсказания\n",
    "MAE = metrics.mean_absolute_error(y_train, y_train_pred) #Mean absolute error regression loss\n",
    "print(f\"MAE: {MAE}\")"
   ]
  },
  {
   "cell_type": "code",
   "execution_count": 13,
   "id": "232fc03d",
   "metadata": {},
   "outputs": [
    {
     "name": "stdout",
     "output_type": "stream",
     "text": [
      "RMSE_train: 0.29769569276166163\n",
      "RMSE_test: 0.3105559170836705\n"
     ]
    }
   ],
   "source": [
    "import sklearn.metrics as metrics\n",
    "metrics.mean_squared_error(y_train, y_train_pred) #Mean squared error regression loss\n",
    "from math import sqrt\n",
    "from sklearn.metrics import mean_squared_error\n",
    "\n",
    "rmse_train = sqrt(mean_squared_error(y_train, y_train_pred))\n",
    "print(f\"RMSE_train: {rmse_train}\")\n",
    "rmse_test = sqrt(mean_squared_error(y_test, y_test_pred))\n",
    "print(f\"RMSE_test: {rmse_test}\")"
   ]
  },
  {
   "cell_type": "code",
   "execution_count": 14,
   "id": "0dbb2aa4",
   "metadata": {},
   "outputs": [],
   "source": [
    "def calculate_mape(actual, predicted):\n",
    "    return np.mean(np.abs((actual - predicted) / actual)) * 100"
   ]
  },
  {
   "cell_type": "code",
   "execution_count": 16,
   "id": "d63b1312",
   "metadata": {},
   "outputs": [
    {
     "name": "stdout",
     "output_type": "stream",
     "text": [
      "MAPE for the training dataset: 89.61260563599008\n",
      "MAPE for the test dataset: 122.41534909846337\n"
     ]
    }
   ],
   "source": [
    "mape_train = calculate_mape(y_train, y_train_pred)\n",
    "mape_test = calculate_mape(y_test, y_test_pred)\n",
    "print(f\"MAPE for the training dataset: {mape_train}\")\n",
    "print(f\"MAPE for the test dataset: {mape_test}\")"
   ]
  },
  {
   "cell_type": "code",
   "execution_count": 18,
   "id": "d7c39559",
   "metadata": {},
   "outputs": [
    {
     "data": {
      "image/png": "[encoded data removed]",
      "text/plain": [
       "<Figure size 800x600 with 1 Axes>"
      ]
     },
     "metadata": {},
     "output_type": "display_data"
    },
    {
     "name": "stdout",
     "output_type": "stream",
     "text": [
      "intercept: 0.10805191433631861\n",
      "slope: 0.8728259146750139\n"
     ]
    }
   ],
   "source": [
    "import matplotlib.pyplot as plt\n",
    "\n",
    "# Строим график\n",
    "plt.figure(figsize=(8, 6))\n",
    "# Выполнение линейной аппроксимации\n",
    "slope, intercept = np.polyfit(y_train, y_train_pred, 1)\n",
    "plt.plot(y_train, slope * y_train + intercept, color='green', label='Trend line: y=0.87·x+0.11')\n",
    "plt.scatter(y_test, y_test_pred, color='red', label='Test data')\n",
    "plt.scatter(y_train, y_train_pred, color='blue', label='Train data')\n",
    "plt.title('Predicted vs Experimental values')\n",
    "plt.xlabel('Experimental values')\n",
    "plt.ylabel('Predicted values')\n",
    "plt.legend()\n",
    "plt.grid(True)\n",
    "plt.show()\n",
    "\n",
    "print(f\"intercept: {intercept}\")\n",
    "print(f\"slope: {slope}\")"
   ]
  },
  {
   "cell_type": "code",
   "execution_count": 19,
   "id": "22a198ff",
   "metadata": {},
   "outputs": [
    {
     "data": {
      "image/png": "[encoded data removed]",
      "text/plain": [
       "<Figure size 800x600 with 1 Axes>"
      ]
     },
     "metadata": {},
     "output_type": "display_data"
    }
   ],
   "source": [
    "#Сохраняет в PDF в высоком качестве\n",
    "import matplotlib.pyplot as plt\n",
    "\n",
    "# Строим график\n",
    "plt.figure(figsize=(8, 6))\n",
    "# Выполнение линейной аппроксимации\n",
    "slope, intercept = np.polyfit(y_train, y_train_pred, 1)\n",
    "plt.plot(y_train, slope * y_train + intercept, color='green', label='Trend line: y=0.87·x+0.11')\n",
    "plt.scatter(y_test, y_test_pred, color='red', label='Test data')\n",
    "plt.scatter(y_train, y_train_pred, color='blue', label='Train data')\n",
    "plt.title('Predicted vs Experimental values')\n",
    "plt.xlabel('Experimental values')\n",
    "plt.ylabel('Predicted values')\n",
    "plt.legend()\n",
    "plt.grid(True)\n",
    "\n",
    "# Сохранение графика в PDF\n",
    "plt.savefig('Toluene_SVR_graph.pdf')\n",
    "\n",
    "# Отображение графика (необязательно)\n",
    "plt.show()"
   ]
  },
  {
   "cell_type": "code",
   "execution_count": 20,
   "id": "5d9f867a",
   "metadata": {},
   "outputs": [],
   "source": [
    "from sklearn.preprocessing import StandardScaler\n",
    "# Получите стандартизированные коэффициенты регрессии\n",
    "scaler = StandardScaler()\n",
    "best_clf.fit(X_train, y_train)\n",
    "standardized_coefficients = best_clf.coef_"
   ]
  },
  {
   "cell_type": "code",
   "execution_count": 21,
   "id": "dcef17fb",
   "metadata": {},
   "outputs": [],
   "source": [
    "# Определите относительный вклад каждого дескриптора\n",
    "relative_contributions = np.abs(standardized_coefficients)"
   ]
  },
  {
   "cell_type": "code",
   "execution_count": 22,
   "id": "7a6195e2",
   "metadata": {},
   "outputs": [],
   "source": [
    "# Нормализуйте относительный вклад в процентах\n",
    "total_contribution = np.sum(relative_contributions)\n",
    "relative_contributions_percent = (relative_contributions / total_contribution) * 100"
   ]
  },
  {
   "cell_type": "code",
   "execution_count": 23,
   "id": "545f8f80",
   "metadata": {},
   "outputs": [
    {
     "data": {
      "text/plain": [
       "array([[14.52518764,  7.18894851,  5.86361916, 21.62710961, 12.70174493,\n",
       "        27.99568022, 10.09770994]])"
      ]
     },
     "execution_count": 23,
     "metadata": {},
     "output_type": "execute_result"
    }
   ],
   "source": [
    "# Выводим относительный вклад в процентах\n",
    "relative_contributions_percent"
   ]
  },
  {
   "cell_type": "code",
   "execution_count": 24,
   "id": "7030d5f2",
   "metadata": {},
   "outputs": [
    {
     "data": {
      "text/plain": [
       "1.8403012757183888"
      ]
     },
     "execution_count": 24,
     "metadata": {},
     "output_type": "execute_result"
    }
   ],
   "source": [
    "total_contribution"
   ]
  },
  {
   "cell_type": "code",
   "execution_count": null,
   "id": "8aaf3eac",
   "metadata": {},
   "outputs": [],
   "source": [
    "#Считаем q2\n",
    "import pandas as pd\n",
    "import numpy as np\n",
    "from sklearn.svm import SVR\n",
    "\n",
    "# Предполагается, что X_train и y_train уже определены и предобработаны\n",
    "\n",
    "# Создаем пустой датафрейм для предсказаний\n",
    "y_predict = pd.DataFrame(columns=['Predicted'])\n",
    "\n",
    "# Цикл для исключения одного элемента и обучения модели\n",
    "for index_to_exclude in X_train.index:\n",
    "    # Создаем новую выборку, исключая текущий элемент\n",
    "    X_train_subset = X_train.drop([index_to_exclude], axis=0)\n",
    "    y_train_subset = y_train.drop([index_to_exclude], axis=0)\n",
    "    X_solo = X_train.loc[[index_to_exclude]]\n",
    "    \n",
    "    # Обучаем модель SVR с линейным ядром\n",
    "    model = SVR(kernel='linear', C=300000, epsilon=0.001)\n",
    "    model.fit(X_train_subset, y_train_subset)\n",
    "    \n",
    "    # Предсказываем значение для исключенного элемента\n",
    "    y_pred = model.predict(X_solo)\n",
    "    \n",
    "    # Добавляем предсказание в датафрейм\n",
    "    y_predict.loc[index_to_exclude] = y_pred\n",
    "\n",
    "from sklearn.metrics import r2_score as r2\n",
    "q2 = r2(y_train,y_predict)\n",
    "print('q2 =', q2)"
   ]
  },
  {
   "cell_type": "code",
   "execution_count": null,
   "id": "53f0ca10",
   "metadata": {},
   "outputs": [],
   "source": []
  }
 ],
 "metadata": {
  "kernelspec": {
   "display_name": "Python 3 (ipykernel)",
   "language": "python",
   "name": "python3"
  },
  "language_info": {
   "codemirror_mode": {
    "name": "ipython",
    "version": 3
   },
   "file_extension": ".py",
   "mimetype": "text/x-python",
   "name": "python",
   "nbconvert_exporter": "python",
   "pygments_lexer": "ipython3",
   "version": "3.10.9"
  }
 },
 "nbformat": 4,
 "nbformat_minor": 5
}

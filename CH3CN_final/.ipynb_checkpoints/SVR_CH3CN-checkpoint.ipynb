{
 "cells": [
  {
   "cell_type": "code",
   "execution_count": 1,
   "id": "b3d66e0a",
   "metadata": {},
   "outputs": [],
   "source": [
    "import pandas as pd \n",
    "import numpy as np\n",
    "import seaborn as sns\n",
    "%matplotlib inline\n",
    "import matplotlib.pyplot as plt\n",
    "from IPython.display import SVG\n",
    "from IPython.display import display"
   ]
  },
  {
   "cell_type": "code",
   "execution_count": 2,
   "id": "05a4d9db",
   "metadata": {},
   "outputs": [],
   "source": [
    "#Берем файл со всеми дескрипторами (Из той папки, где код)\n",
    "data = pd.read_excel('C://Users//plato//Documents//Python Scripts//CH3CN_final//CH3CN_ALL.xlsx', index_col=0) "
   ]
  },
  {
   "cell_type": "code",
   "execution_count": 3,
   "id": "e03de4df",
   "metadata": {},
   "outputs": [],
   "source": [
    "merged_df = data[['F01[C-N]', 'B05[O-O]', 'F06[N-B]:(Dragon7)', 'LDI', 'LLS_02:(Dragon7)', 'E LUMO (eV)', 'F04[C-B]', 'LnLn']]"
   ]
  },
  {
   "cell_type": "code",
   "execution_count": 4,
   "id": "760f2bdc",
   "metadata": {},
   "outputs": [],
   "source": [
    "#Сохраняем в отдельный файл (он сохранится в ту папку, в которой этот код)\n",
    "merged_df.to_excel(f'CH3CN_SVR.xlsx', index=True)"
   ]
  },
  {
   "cell_type": "code",
   "execution_count": 5,
   "id": "ebee9379",
   "metadata": {},
   "outputs": [
    {
     "data": {
      "text/html": [
       "<div>\n",
       "<style scoped>\n",
       "    .dataframe tbody tr th:only-of-type {\n",
       "        vertical-align: middle;\n",
       "    }\n",
       "\n",
       "    .dataframe tbody tr th {\n",
       "        vertical-align: top;\n",
       "    }\n",
       "\n",
       "    .dataframe thead th {\n",
       "        text-align: right;\n",
       "    }\n",
       "</style>\n",
       "<table border=\"1\" class=\"dataframe\">\n",
       "  <thead>\n",
       "    <tr style=\"text-align: right;\">\n",
       "      <th></th>\n",
       "      <th>F01[C-N]</th>\n",
       "      <th>B05[O-O]</th>\n",
       "      <th>F06[N-B]:(Dragon7)</th>\n",
       "      <th>LDI</th>\n",
       "      <th>LLS_02:(Dragon7)</th>\n",
       "      <th>E LUMO (eV)</th>\n",
       "      <th>F04[C-B]</th>\n",
       "      <th>LnLn</th>\n",
       "    </tr>\n",
       "    <tr>\n",
       "      <th>SR No</th>\n",
       "      <th></th>\n",
       "      <th></th>\n",
       "      <th></th>\n",
       "      <th></th>\n",
       "      <th></th>\n",
       "      <th></th>\n",
       "      <th></th>\n",
       "      <th></th>\n",
       "    </tr>\n",
       "  </thead>\n",
       "  <tbody>\n",
       "    <tr>\n",
       "      <th>2</th>\n",
       "      <td>4</td>\n",
       "      <td>0</td>\n",
       "      <td>0</td>\n",
       "      <td>0.2224</td>\n",
       "      <td>1.0</td>\n",
       "      <td>-1.68</td>\n",
       "      <td>2</td>\n",
       "      <td>0.078814</td>\n",
       "    </tr>\n",
       "    <tr>\n",
       "      <th>3</th>\n",
       "      <td>4</td>\n",
       "      <td>0</td>\n",
       "      <td>0</td>\n",
       "      <td>0.1860</td>\n",
       "      <td>1.0</td>\n",
       "      <td>-1.58</td>\n",
       "      <td>3</td>\n",
       "      <td>0.160491</td>\n",
       "    </tr>\n",
       "    <tr>\n",
       "      <th>4</th>\n",
       "      <td>5</td>\n",
       "      <td>0</td>\n",
       "      <td>1</td>\n",
       "      <td>0.1898</td>\n",
       "      <td>1.0</td>\n",
       "      <td>-1.74</td>\n",
       "      <td>3</td>\n",
       "      <td>1.468449</td>\n",
       "    </tr>\n",
       "    <tr>\n",
       "      <th>5</th>\n",
       "      <td>5</td>\n",
       "      <td>0</td>\n",
       "      <td>0</td>\n",
       "      <td>0.1897</td>\n",
       "      <td>1.0</td>\n",
       "      <td>-1.87</td>\n",
       "      <td>3</td>\n",
       "      <td>0.730410</td>\n",
       "    </tr>\n",
       "    <tr>\n",
       "      <th>6</th>\n",
       "      <td>5</td>\n",
       "      <td>0</td>\n",
       "      <td>0</td>\n",
       "      <td>0.1904</td>\n",
       "      <td>1.0</td>\n",
       "      <td>-1.90</td>\n",
       "      <td>3</td>\n",
       "      <td>0.770710</td>\n",
       "    </tr>\n",
       "  </tbody>\n",
       "</table>\n",
       "</div>"
      ],
      "text/plain": [
       "       F01[C-N]  B05[O-O]  F06[N-B]:(Dragon7)     LDI  LLS_02:(Dragon7)  \\\n",
       "SR No                                                                     \n",
       "2             4         0                   0  0.2224               1.0   \n",
       "3             4         0                   0  0.1860               1.0   \n",
       "4             5         0                   1  0.1898               1.0   \n",
       "5             5         0                   0  0.1897               1.0   \n",
       "6             5         0                   0  0.1904               1.0   \n",
       "\n",
       "       E LUMO (eV)  F04[C-B]      LnLn  \n",
       "SR No                                   \n",
       "2            -1.68         2  0.078814  \n",
       "3            -1.58         3  0.160491  \n",
       "4            -1.74         3  1.468449  \n",
       "5            -1.87         3  0.730410  \n",
       "6            -1.90         3  0.770710  "
      ]
     },
     "execution_count": 5,
     "metadata": {},
     "output_type": "execute_result"
    }
   ],
   "source": [
    "#Загружаем наш сохраненный файл\n",
    "Porphs_data = pd.read_excel('C://Users//plato//Documents//Python Scripts//CH3CN_final//CH3CN_SVR.xlsx', index_col=0) \n",
    "Porphs_data.head()"
   ]
  },
  {
   "cell_type": "code",
   "execution_count": 6,
   "id": "5c4ce37b",
   "metadata": {},
   "outputs": [],
   "source": [
    "# Create correlation matrix\n",
    "corr_matrix = Porphs_data.corr().abs()\n",
    "corr_matrix\n",
    "# Select upper triangle of correlation matrix\n",
    "upper = corr_matrix.where(np.triu(np.ones(corr_matrix.shape), k=1).astype(bool))\n",
    "# Find index of feature columns with correlation greater than 0.95\n",
    "to_drop = [column for column in upper.columns if any(upper[column] > 0.95)]\n",
    "# Drop features \n",
    "BDP_data1 = Porphs_data.drop(Porphs_data[to_drop], axis=1)"
   ]
  },
  {
   "cell_type": "code",
   "execution_count": 7,
   "id": "3bf2d9fb",
   "metadata": {},
   "outputs": [],
   "source": [
    "#разделяем на целевую переменную и дескрипторы\n",
    "y = BDP_data1.LnLn\n",
    "X = BDP_data1.drop(['LnLn'], axis=1)\n",
    "\n",
    "from sklearn import preprocessing\n",
    "# normalize the data attributes\n",
    "X = pd.DataFrame(preprocessing.scale(X), columns=X.columns, index=X.index)\n",
    "\n",
    "#делаем тренировочную выборку\n",
    "X_train = X.drop([5, 8, 13, 20, 48, 25, 16, 74], axis=0)\n",
    "#делаем тренировочную целевую переменную\n",
    "y_train = y.drop([5, 8, 13, 20, 48, 25, 16, 74], axis=0)\n",
    "#делаем тестовую выборку\n",
    "X_test = X.loc[[5, 8, 13, 20, 48, 25, 16, 74]]\n",
    "#делаем тестовую целевую переменную\n",
    "y_test = y.loc[[5, 8, 13, 20, 48, 25, 16, 74]]"
   ]
  },
  {
   "cell_type": "code",
   "execution_count": 8,
   "id": "1bf079da",
   "metadata": {},
   "outputs": [
    {
     "name": "stdout",
     "output_type": "stream",
     "text": [
      "Train R^2: 0.7323565308662647\n",
      "Test R^2: 0.8801735700691318\n"
     ]
    }
   ],
   "source": [
    "from sklearn.model_selection import GridSearchCV\n",
    "from sklearn.metrics import make_scorer, r2_score\n",
    "from sklearn.svm import SVR\n",
    "clf_svr = SVR(C=1.0, gamma='scale', epsilon=0.1)\n",
    "parameters = {'kernel':['linear'], \n",
    "              'gamma':['scale', 'auto'],\n",
    "              'C':[100000], \n",
    "              \"epsilon\":[0.001]}\n",
    "grid_search_cv_clf = GridSearchCV(clf_svr, parameters, cv=5, n_jobs=-1)\n",
    "grid_search_cv_clf.fit(X_train, y_train)\n",
    "y_train_pred = grid_search_cv_clf.predict(X_train)\n",
    "train_r2 = r2_score(y_train, y_train_pred)\n",
    "y_test_pred = grid_search_cv_clf.predict(X_test)\n",
    "test_r2 = r2_score(y_test, y_test_pred)\n",
    "# Выводим текущие значения коэффициентов детерминации\n",
    "print(\"Train R^2:\", train_r2)\n",
    "print(\"Test R^2:\", test_r2)"
   ]
  },
  {
   "cell_type": "code",
   "execution_count": 9,
   "id": "b242174f",
   "metadata": {},
   "outputs": [
    {
     "name": "stdout",
     "output_type": "stream",
     "text": [
      "R^2 adjusted: 0.6508998228690409\n"
     ]
    }
   ],
   "source": [
    "R2_adj = 1 - ( 1-train_r2 ) * ( len(y_train) - 1 ) / ( len(y_train) - X_train.shape[1] - 1 )\n",
    "print(\"R^2 adjusted:\", R2_adj)"
   ]
  },
  {
   "cell_type": "code",
   "execution_count": 10,
   "id": "cead9292",
   "metadata": {},
   "outputs": [
    {
     "data": {
      "text/plain": [
       "{'C': 100000, 'epsilon': 0.001, 'gamma': 'scale', 'kernel': 'linear'}"
      ]
     },
     "execution_count": 10,
     "metadata": {},
     "output_type": "execute_result"
    }
   ],
   "source": [
    "# наилучшие параметры SVR\n",
    "grid_search_cv_clf.best_params_"
   ]
  },
  {
   "cell_type": "code",
   "execution_count": 20,
   "id": "c2bf098e",
   "metadata": {},
   "outputs": [],
   "source": [
    "#новый SVR с наилучшими параметрами\n",
    "best_clf = grid_search_cv_clf.best_estimator_"
   ]
  },
  {
   "cell_type": "code",
   "execution_count": 11,
   "id": "e438f9a4",
   "metadata": {},
   "outputs": [
    {
     "name": "stdout",
     "output_type": "stream",
     "text": [
      "MaxAE: 1.83266269196324\n",
      "MAE: 0.30214067254577454\n"
     ]
    }
   ],
   "source": [
    "#Максимальная ошибка предсказания\n",
    "import sklearn.metrics as metrics\n",
    "MaxAE = metrics.max_error(y_train, y_train_pred)  #max_error metric calculates the maximum residual error\n",
    "print(f\"MaxAE: {MaxAE}\")\n",
    "#Средняя абсолютная ошибка предсказания\n",
    "MAE = metrics.mean_absolute_error(y_train, y_train_pred) #Mean absolute error regression loss\n",
    "print(f\"MAE: {MAE}\")"
   ]
  },
  {
   "cell_type": "code",
   "execution_count": 12,
   "id": "941202cb",
   "metadata": {},
   "outputs": [
    {
     "name": "stdout",
     "output_type": "stream",
     "text": [
      "RMSE_train: 0.4847937249983537\n",
      "RMSE_test: 0.28884535793891347\n"
     ]
    }
   ],
   "source": [
    "import sklearn.metrics as metrics\n",
    "metrics.mean_squared_error(y_train, y_train_pred) #Mean squared error regression loss\n",
    "from math import sqrt\n",
    "from sklearn.metrics import mean_squared_error\n",
    "\n",
    "rmse_train = sqrt(mean_squared_error(y_train, y_train_pred))\n",
    "print(f\"RMSE_train: {rmse_train}\")\n",
    "rmse_test = sqrt(mean_squared_error(y_test, y_test_pred))\n",
    "print(f\"RMSE_test: {rmse_test}\")"
   ]
  },
  {
   "cell_type": "code",
   "execution_count": 13,
   "id": "02fd7bc7",
   "metadata": {},
   "outputs": [],
   "source": [
    "def calculate_mape(actual, predicted):\n",
    "    return np.mean(np.abs((actual - predicted) / actual)) * 100"
   ]
  },
  {
   "cell_type": "code",
   "execution_count": 15,
   "id": "8a9293d5",
   "metadata": {},
   "outputs": [
    {
     "name": "stdout",
     "output_type": "stream",
     "text": [
      "MAPE for the training dataset: 73.89570474056954\n",
      "MAPE for the test dataset: 29.70564307496062\n"
     ]
    }
   ],
   "source": [
    "mape_train = calculate_mape(y_train, y_train_pred)\n",
    "mape_test = calculate_mape(y_test, y_test_pred)\n",
    "print(f\"MAPE for the training dataset: {mape_train}\")\n",
    "print(f\"MAPE for the test dataset: {mape_test}\")"
   ]
  },
  {
   "cell_type": "code",
   "execution_count": 16,
   "id": "471653d3",
   "metadata": {},
   "outputs": [
    {
     "data": {
      "image/png": "[encoded data removed]",
      "text/plain": [
       "<Figure size 800x600 with 1 Axes>"
      ]
     },
     "metadata": {},
     "output_type": "display_data"
    },
    {
     "name": "stdout",
     "output_type": "stream",
     "text": [
      "intercept: 0.3085995192368002\n",
      "slope: 0.7300280594345745\n"
     ]
    }
   ],
   "source": [
    "import matplotlib.pyplot as plt\n",
    "\n",
    "# Строим график\n",
    "plt.figure(figsize=(8, 6))\n",
    "# Выполнение линейной аппроксимации\n",
    "slope, intercept = np.polyfit(y_train, y_train_pred, 1)\n",
    "plt.plot(y_train, slope * y_train + intercept, color='green', label='Trend line: y=0.73·x+0.31')\n",
    "plt.scatter(y_test, y_test_pred, color='red', label='Test data')\n",
    "plt.scatter(y_train, y_train_pred, color='blue', label='Train data')\n",
    "plt.title('Predicted vs Experimental values')\n",
    "plt.xlabel('Experimental values')\n",
    "plt.ylabel('Predicted values')\n",
    "plt.legend()\n",
    "plt.grid(True)\n",
    "plt.show()\n",
    "\n",
    "print(f\"intercept: {intercept}\")\n",
    "print(f\"slope: {slope}\")"
   ]
  },
  {
   "cell_type": "code",
   "execution_count": 17,
   "id": "b37a5388",
   "metadata": {},
   "outputs": [
    {
     "data": {
      "image/png": "[encoded data removed]",
      "text/plain": [
       "<Figure size 800x600 with 1 Axes>"
      ]
     },
     "metadata": {},
     "output_type": "display_data"
    }
   ],
   "source": [
    "#Сохраняет в PDF в высоком качестве\n",
    "import matplotlib.pyplot as plt\n",
    "\n",
    "# Строим график\n",
    "plt.figure(figsize=(8, 6))\n",
    "# Выполнение линейной аппроксимации\n",
    "slope, intercept = np.polyfit(y_train, y_train_pred, 1)\n",
    "plt.plot(y_train, slope * y_train + intercept, color='green', label='Trend line: y=0.73·x+0.31')\n",
    "plt.scatter(y_test, y_test_pred, color='red', label='Test data')\n",
    "plt.scatter(y_train, y_train_pred, color='blue', label='Train data')\n",
    "plt.title('Predicted vs Experimental values')\n",
    "plt.xlabel('Experimental values')\n",
    "plt.ylabel('Predicted values')\n",
    "plt.legend()\n",
    "plt.grid(True)\n",
    "\n",
    "# Сохранение графика в PDF\n",
    "plt.savefig('CH3CN_SVR_graph.pdf')\n",
    "\n",
    "# Отображение графика (необязательно)\n",
    "plt.show()"
   ]
  },
  {
   "cell_type": "code",
   "execution_count": 21,
   "id": "b74ecab0",
   "metadata": {},
   "outputs": [],
   "source": [
    "from sklearn.preprocessing import StandardScaler\n",
    "# Получите стандартизированные коэффициенты регрессии\n",
    "scaler = StandardScaler()\n",
    "best_clf.fit(X_train, y_train)\n",
    "standardized_coefficients = best_clf.coef_"
   ]
  },
  {
   "cell_type": "code",
   "execution_count": 22,
   "id": "b38bbaec",
   "metadata": {},
   "outputs": [],
   "source": [
    "# Определите относительный вклад каждого дескриптора\n",
    "relative_contributions = np.abs(standardized_coefficients)"
   ]
  },
  {
   "cell_type": "code",
   "execution_count": 23,
   "id": "699f9a10",
   "metadata": {},
   "outputs": [],
   "source": [
    "# Нормализуйте относительный вклад в процентах\n",
    "total_contribution = np.sum(relative_contributions)\n",
    "relative_contributions_percent = (relative_contributions / total_contribution) * 100"
   ]
  },
  {
   "cell_type": "code",
   "execution_count": 24,
   "id": "ce97f0c5",
   "metadata": {},
   "outputs": [
    {
     "data": {
      "text/plain": [
       "array([[18.75325465, 15.49346742, 20.69905033, 16.08690542,  8.59028061,\n",
       "         8.67077341, 11.70626816]])"
      ]
     },
     "execution_count": 24,
     "metadata": {},
     "output_type": "execute_result"
    }
   ],
   "source": [
    "# Выводим относительный вклад в процентах\n",
    "relative_contributions_percent"
   ]
  },
  {
   "cell_type": "code",
   "execution_count": 25,
   "id": "9b947c46",
   "metadata": {},
   "outputs": [
    {
     "data": {
      "text/plain": [
       "2.8395678581709944"
      ]
     },
     "execution_count": 25,
     "metadata": {},
     "output_type": "execute_result"
    }
   ],
   "source": [
    "total_contribution"
   ]
  },
  {
   "cell_type": "code",
   "execution_count": null,
   "id": "1054ba90",
   "metadata": {},
   "outputs": [],
   "source": [
    "#Считаем q2\n",
    "import pandas as pd\n",
    "import numpy as np\n",
    "from sklearn.svm import SVR\n",
    "\n",
    "# Предполагается, что X_train и y_train уже определены и предобработаны\n",
    "\n",
    "# Создаем пустой датафрейм для предсказаний\n",
    "y_predict = pd.DataFrame(columns=['Predicted'])\n",
    "\n",
    "# Цикл для исключения одного элемента и обучения модели\n",
    "for index_to_exclude in X_train.index:\n",
    "    # Создаем новую выборку, исключая текущий элемент\n",
    "    X_train_subset = X_train.drop([index_to_exclude], axis=0)\n",
    "    y_train_subset = y_train.drop([index_to_exclude], axis=0)\n",
    "    X_solo = X_train.loc[[index_to_exclude]]\n",
    "    \n",
    "    # Обучаем модель SVR с линейным ядром\n",
    "    model = SVR(kernel='linear', C=100000, epsilon=0.001)\n",
    "    model.fit(X_train_subset, y_train_subset)\n",
    "    \n",
    "    # Предсказываем значение для исключенного элемента\n",
    "    y_pred = model.predict(X_solo)\n",
    "    \n",
    "    # Добавляем предсказание в датафрейм\n",
    "    y_predict.loc[index_to_exclude] = y_pred\n",
    "\n",
    "from sklearn.metrics import r2_score as r2\n",
    "q2 = r2(y_train,y_predict)\n",
    "print('q2 =', q2)"
   ]
  },
  {
   "cell_type": "code",
   "execution_count": null,
   "id": "f0e3ec9c",
   "metadata": {},
   "outputs": [],
   "source": []
  },
  {
   "cell_type": "code",
   "execution_count": null,
   "id": "feeebc7c",
   "metadata": {},
   "outputs": [],
   "source": []
  }
 ],
 "metadata": {
  "kernelspec": {
   "display_name": "Python 3 (ipykernel)",
   "language": "python",
   "name": "python3"
  },
  "language_info": {
   "codemirror_mode": {
    "name": "ipython",
    "version": 3
   },
   "file_extension": ".py",
   "mimetype": "text/x-python",
   "name": "python",
   "nbconvert_exporter": "python",
   "pygments_lexer": "ipython3",
   "version": "3.10.9"
  }
 },
 "nbformat": 4,
 "nbformat_minor": 5
}
